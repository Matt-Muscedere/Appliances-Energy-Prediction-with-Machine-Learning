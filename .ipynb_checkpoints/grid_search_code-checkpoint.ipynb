{
 "cells": [
  {
   "cell_type": "code",
   "execution_count": 6,
   "metadata": {},
   "outputs": [],
   "source": [
    "# Panda for reading in csv file\n",
    "import pandas as pd\n",
    "# plt for plotting graphs\n",
    "import matplotlib.pyplot as plt\n",
    "# Linear regression models\n",
    "from sklearn.linear_model import LinearRegression\n",
    "# Neighbour regressor model\n",
    "from sklearn.neighbors import KNeighborsRegressor\n",
    "# Logistic Regression Model\n",
    "from sklearn.linear_model import LogisticRegression\n",
    "# Neural Network model\n",
    "from sklearn.neural_network import MLPRegressor\n",
    "# Decision Tree Regressor\n",
    "from sklearn.tree import DecisionTreeRegressor\n",
    "# GridSearch for hyperparameter turning\n",
    "from sklearn.model_selection import GridSearchCV\n",
    "# function for splitting training and testing data\n",
    "from sklearn.model_selection import train_test_split\n",
    "# error scores to compare different regression algorithms\n",
    "from sklearn.metrics import mean_squared_error, mean_absolute_error, r2_score"
   ]
  },
  {
   "cell_type": "code",
   "execution_count": 7,
   "metadata": {},
   "outputs": [],
   "source": [
    "# Setup DataFrame\n",
    "df = pd.read_csv('data/DataEnergyClean.csv')"
   ]
  },
  {
   "cell_type": "code",
   "execution_count": 8,
   "metadata": {},
   "outputs": [],
   "source": [
    "# Setting up our X for the multidimensional input\n",
    "X = df.drop(columns='Appliances')\n",
    "# Setting up the value we want to predict (Appliances, energy use in Wh)\n",
    "y = df['Appliances']\n",
    "\n",
    "# Setup the training data (X_train, y_train) which will use 80% of the dataset, \n",
    "# and the test data (X_test, y_test) which will use the remaining 20% of the dataset\n",
    "X_train, X_test, y_train, y_test = train_test_split(X, y, test_size=0.2, random_state=42)"
   ]
  },
  {
   "cell_type": "markdown",
   "metadata": {},
   "source": [
    "# Neural Network"
   ]
  },
  {
   "cell_type": "code",
   "execution_count": null,
   "metadata": {},
   "outputs": [],
   "source": [
    "# DO NOT RUN THIS CELL\n",
    "\n",
    "# Parameter grid with hyperparameters to tune\n",
    "param_grid = {\n",
    "    'hidden_layer_sizes': [(64, 32), (128, 64), (64, 32, 16), (64,)],\n",
    "    'activation': ['relu', 'tanh'],\n",
    "    'learning_rate_init': [0.001, 0.01, 0.1],\n",
    "    'batch_size': [16, 32, 64],\n",
    "    'early_stopping': [True, False],\n",
    "    'alpha': [0.0001, 0.001, 0.01]\n",
    "}\n",
    "\n",
    "# Specify solver directly in MLPRegressor\n",
    "neural_network1 = MLPRegressor(\n",
    "    solver='adam',\n",
    "    **param_grid  # Include other hyperparameters from param_grid\n",
    ")\n",
    "\n",
    "# Grid search to tune hyperparameters\n",
    "grid_search = GridSearchCV(neural_network1, param_grid, cv=5, scoring='neg_mean_squared_error')\n",
    "grid_search.fit(X_train, y_train)\n",
    "\n",
    "#Save and print best hyperparameters\n",
    "best_params = grid_search.best_params_\n",
    "\n",
    "print(grid_search.best_params_)\n",
    "\n",
    "# Train final model with best hyperparameters from grid search\n",
    "final_neural_network = MLPRegressor(\n",
    "    **best_params,  \n",
    ")\n",
    "final_neural_network.fit(X_train, y_train)\n"
   ]
  },
  {
   "cell_type": "markdown",
   "metadata": {},
   "source": [
    "# Linear Regression"
   ]
  },
  {
   "cell_type": "code",
   "execution_count": 4,
   "metadata": {},
   "outputs": [
    {
     "name": "stdout",
     "output_type": "stream",
     "text": [
      "{'copy_X': True, 'fit_intercept': False, 'positive': False}\n"
     ]
    }
   ],
   "source": [
    "# DO NOT RUN THIS CELL\n",
    "\n",
    "# Parameter grid with hyperparameters to tune\n",
    "param_grid = {\n",
    "    'fit_intercept': [True, False],\n",
    "    'copy_X': [True, False],\n",
    "    'positive': [True, False]\n",
    "}\n",
    "\n",
    "# Specify solver directly in LinearRegression\n",
    "lr = LinearRegression(\n",
    "    n_jobs=-1,\n",
    "    **param_grid  # Include other hyperparameters from param_grid\n",
    ")\n",
    "\n",
    "# Grid search to tune hyperparameters\n",
    "grid_search = GridSearchCV(lr, param_grid, cv=5, scoring='neg_mean_squared_error')\n",
    "grid_search.fit(X_train, y_train)\n",
    "\n",
    "# Print best hyperparameters\n",
    "print(grid_search.best_params_)"
   ]
  },
  {
   "cell_type": "markdown",
   "metadata": {},
   "source": [
    "# K-NN"
   ]
  },
  {
   "cell_type": "code",
   "execution_count": 4,
   "metadata": {},
   "outputs": [
    {
     "name": "stdout",
     "output_type": "stream",
     "text": [
      "{'algorithm': 'auto', 'leaf_size': 15, 'n_neighbors': 5, 'p': 1, 'weights': 'distance'}\n"
     ]
    }
   ],
   "source": [
    "# DO NOT RUN THIS CELL\n",
    "\n",
    "# Parameter grid with hyperparameters to tune\n",
    "param_grid = {\n",
    "    'n_neighbors': [2, 5, 10, 25],\n",
    "    'weights': ['uniform', 'distance'],\n",
    "    'algorithm': ['auto', 'ball_tree', 'kd_tree', 'brute'],\n",
    "    'leaf_size': [15, 30, 50],\n",
    "    'p': [1, 2, 3, 5]\n",
    "}\n",
    "\n",
    "# Specify solver directly in KNeighborsRegressor\n",
    "knn = KNeighborsRegressor(\n",
    "    n_jobs=-1,\n",
    "    **param_grid  # Include other hyperparameters from param_grid\n",
    ")\n",
    "\n",
    "# Grid search to tune hyperparameters\n",
    "grid_search = GridSearchCV(knn, param_grid, cv=5, scoring='neg_mean_squared_error')\n",
    "grid_search.fit(X_train, y_train)\n",
    "\n",
    "#Save and print best hyperparameters\n",
    "print(grid_search.best_params_)"
   ]
  },
  {
   "cell_type": "markdown",
   "metadata": {},
   "source": [
    "# DTR"
   ]
  },
  {
   "cell_type": "code",
   "execution_count": 10,
   "metadata": {},
   "outputs": [
    {
     "name": "stdout",
     "output_type": "stream",
     "text": [
      "{'criterion': 'poisson', 'max_depth': 10, 'min_samples_split': 10, 'random_state': 2}\n"
     ]
    }
   ],
   "source": [
    "# DO NOT RUN THIS CELL (took like 50 mins)\n",
    "\n",
    "# Parameter grid with hyperparameters to tune\n",
    "param_grid = {\n",
    "    'criterion': ['friedman_mse', 'squared_error', 'absolute_error', 'poisson'],\n",
    "    'max_depth': [2, 5, 10, 15],\n",
    "    'min_samples_split': [2, 5, 10, 15],\n",
    "    'random_state': [2, 5, 10, 15]\n",
    "}\n",
    "\n",
    "# Specify solver directly in DTR\n",
    "dtr = DecisionTreeRegressor(\n",
    "    **param_grid  # Include other hyperparameters from param_grid\n",
    ")\n",
    "\n",
    "# Grid search to tune hyperparameters\n",
    "grid_search = GridSearchCV(dtr, param_grid, cv=5, scoring='neg_mean_squared_error')\n",
    "grid_search.fit(X_train, y_train)\n",
    "\n",
    "#Save and print best hyperparameters\n",
    "print(grid_search.best_params_)"
   ]
  },
  {
   "cell_type": "code",
   "execution_count": null,
   "metadata": {},
   "outputs": [],
   "source": []
  }
 ],
 "metadata": {
  "kernelspec": {
   "display_name": "Python 3 (ipykernel)",
   "language": "python",
   "name": "python3"
  },
  "language_info": {
   "codemirror_mode": {
    "name": "ipython",
    "version": 3
   },
   "file_extension": ".py",
   "mimetype": "text/x-python",
   "name": "python",
   "nbconvert_exporter": "python",
   "pygments_lexer": "ipython3",
   "version": "3.12.0"
  }
 },
 "nbformat": 4,
 "nbformat_minor": 4
}
